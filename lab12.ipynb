{
 "cells": [
  {
   "cell_type": "code",
   "execution_count": 2,
   "id": "eabaafe0",
   "metadata": {},
   "outputs": [],
   "source": [
    "from chatterbot import ChatBot\n",
    "from chatterbot.trainers import ListTrainer"
   ]
  },
  {
   "cell_type": "code",
   "execution_count": 4,
   "id": "2176f634",
   "metadata": {},
   "outputs": [],
   "source": [
    "mybot=ChatBot(\n",
    "    name='Blabla',\n",
    "    read_only=True,\n",
    "    logic_adapters=['chatterbot.logic.BestMatch']\n",
    ")"
   ]
  },
  {
   "cell_type": "code",
   "execution_count": 5,
   "id": "ef2f8b02",
   "metadata": {},
   "outputs": [],
   "source": [
    "conversation = [\n",
    "    \"Hi\",\n",
    "    \"Hello! I am HealthBot. How can I assist you today?\",\n",
    "    \"Hello\",\n",
    "    \"Hi! Do you have a health-related question?\",\n",
    "    \"I have a headache\",\n",
    "    \"You should rest, stay hydrated, and take a mild pain reliever if needed.\",\n",
    "    \"What should I do if I have a fever?\",\n",
    "    \"Drink plenty of fluids and rest. If the fever persists, please consult a doctor.\",\n",
    "    \"I feel dizzy\",\n",
    "    \"Sit down, breathe deeply, and drink water. If it continues, seek medical help.\",\n",
    "    \"What should I eat for a cold?\",\n",
    "    \"Warm fluids, soups, citrus fruits, and light meals help during a cold.\",\n",
    "    \"How to stay healthy?\",\n",
    "    \"Eat balanced meals, exercise regularly, stay hydrated, and get enough sleep.\",\n",
    "    \"What should I do in case of a cut?\",\n",
    "    \"Clean the wound with water, apply antiseptic, and cover it with a clean bandage.\",\n",
    "    \"How much water should I drink daily?\",\n",
    "    \"Generally, 2 to 3 liters per day is recommended, but it varies based on your activity.\",\n",
    "    \"Thank you\",\n",
    "    \"You’re welcome! Take care.\",\n",
    "    \"Bye\",\n",
    "    \"Goodbye! Stay healthy.\"\n",
    "]"
   ]
  },
  {
   "cell_type": "code",
   "execution_count": 6,
   "id": "ee3f5107",
   "metadata": {},
   "outputs": [
    {
     "name": "stderr",
     "output_type": "stream",
     "text": [
      "List Trainer: 22it [00:00, 177.31it/s]\n"
     ]
    }
   ],
   "source": [
    "trainer=ListTrainer(mybot)\n",
    "trainer.train(conversation)"
   ]
  },
  {
   "cell_type": "code",
   "execution_count": 7,
   "id": "d99c1640",
   "metadata": {},
   "outputs": [
    {
     "name": "stdout",
     "output_type": "stream",
     "text": [
      "Hello this is bla bla type exit to end conversation\n",
      "Blabla:Eat balanced meals, exercise regularly, stay hydrated, and get enough sleep.\n",
      "Blabla:You’re welcome! Take care.\n",
      "Thank you :)\n"
     ]
    }
   ],
   "source": [
    "print(\"Hello this is bla bla type exit to end conversation\")\n",
    "while True:\n",
    "    user_input=input(\"You:\")\n",
    "    if user_input.lower()=='exit':\n",
    "        print(\"Thank you :)\")\n",
    "        break\n",
    "    response=mybot.get_response(user_input)\n",
    "    print(f\"Blabla:{response}\")"
   ]
  },
  {
   "cell_type": "code",
   "execution_count": null,
   "id": "bfb7285f",
   "metadata": {},
   "outputs": [],
   "source": []
  },
  {
   "cell_type": "code",
   "execution_count": null,
   "id": "b9d8b643",
   "metadata": {},
   "outputs": [],
   "source": []
  },
  {
   "cell_type": "code",
   "execution_count": null,
   "id": "732ee3e9",
   "metadata": {},
   "outputs": [],
   "source": []
  }
 ],
 "metadata": {
  "kernelspec": {
   "display_name": "Python 3",
   "language": "python",
   "name": "python3"
  },
  "language_info": {
   "codemirror_mode": {
    "name": "ipython",
    "version": 3
   },
   "file_extension": ".py",
   "mimetype": "text/x-python",
   "name": "python",
   "nbconvert_exporter": "python",
   "pygments_lexer": "ipython3",
   "version": "3.11.0"
  }
 },
 "nbformat": 4,
 "nbformat_minor": 5
}
