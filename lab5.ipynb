{
 "cells": [
  {
   "cell_type": "code",
   "execution_count": null,
   "metadata": {},
   "outputs": [],
   "source": [
    "\n",
    "import numpy as np\n",
    "\n",
    "gfg = np.matrix('[4, 1, 9; 12, 3, 1; 4, 5, 6]')\n",
    "\n",
    "# (i) Sum of all elements\n",
    "sum_all = np.sum(gfg)\n",
    "\n",
    "# (ii) Sum of elements row-wise\n",
    "sum_rows = np.sum(gfg, axis=1)\n",
    "\n",
    "# (iii) Sum of elements column-wise\n",
    "sum_columns = np.sum(gfg, axis=0)\n",
    "\n",
    "print(\"Sum of all elements:\", sum_all)\n",
    "print(\"Row-wise sum:\", sum_rows)\n",
    "print(\"Column-wise sum:\", sum_columns)"
   ]
  },
  {
   "cell_type": "code",
   "execution_count": null,
   "metadata": {},
   "outputs": [],
   "source": [
    "# (a)\n",
    "array = np.array([10, 52, 62, 16, 16, 54, 453])\n",
    "# (i) Sorted array\n",
    "sorted_array = np.sort(array)\n",
    "\n",
    "# (ii) Indices of sorted array\n",
    "sorted_indices = np.argsort(array)\n",
    "\n",
    "# (iii) 4 smallest elements\n",
    "smallest_elements = np.sort(array)[:4]\n",
    "\n",
    "# (iv) 5 largest elements\n",
    "largest_elements = np.sort(array)[-5:]\n",
    "\n",
    "print(\"Sorted array:\", sorted_array)\n",
    "print(\"Indices of sorted array:\", sorted_indices)\n",
    "print(\"4 Smallest elements:\", smallest_elements)\n",
    "print(\"5 Largest elements:\", largest_elements)\n",
    "\n",
    "# (b)\n",
    "array_float = np.array([1.0, 1.2, 2.2, 2.0, 3.0, 2.0])\n",
    "\n",
    "# (i) Integer elements only\n",
    "integer_elements = array_float[array_float == array_float.astype(int)]\n",
    "\n",
    "# (ii) Float elements only\n",
    "float_elements = array_float[array_float != array_float.astype(int)]\n",
    "\n",
    "print(\"Integer elements:\", integer_elements)\n",
    "print(\"Float elements:\", float_elements)"
   ]
  },
  {
   "cell_type": "code",
   "execution_count": null,
   "metadata": {},
   "outputs": [],
   "source": [
    "# Q3: \n",
    "initials_ascii_sum = sum(ord(ch) for ch in \"YS\")  \n",
    "X = initials_ascii_sum\n",
    "sales = np.array([X, X+50, X+100, X+150, X+200])\n",
    "\n",
    "# (b) Compute tax rate\n",
    "tax_rate = ((X % 5) + 5) / 100\n",
    "sales_after_tax = sales * (1 - tax_rate)\n",
    "\n",
    "# (c) Apply discounts\n",
    "discounted_sales = np.where(sales < X+100, sales * 0.95, sales * 0.90)\n",
    "\n",
    "# (d) Expand sales data for multiple weeks\n",
    "sales_weeks = np.tile(sales, (3, 1))\n",
    "sales_weeks = sales_weeks * np.array([1.00, 1.02, 1.04]).reshape(3, 1)\n",
    "\n",
    "print(\"Sales Data:\", sales)\n",
    "print(\"Sales after tax:\", sales_after_tax)\n",
    "print(\"Discounted Sales:\", discounted_sales)\n",
    "print(\"Sales Data for Multiple Weeks:\", sales_weeks)"
   ]
  },
  {
   "cell_type": "code",
   "execution_count": null,
   "metadata": {},
   "outputs": [],
   "source": [
    "import matplotlib.pyplot as plt\n",
    "# Q4: \n",
    "x = np.linspace(-10, 10, 100)\n",
    "y1 = x**2\n",
    "y2 = np.sin(x)\n",
    "y3 = np.exp(x)\n",
    "y4 = np.log(np.abs(x) + 1)\n",
    "\n",
    "plt.figure(figsize=(10, 6))\n",
    "plt.plot(x, y1, label='y = x^2')\n",
    "plt.plot(x, y2, label='y = sin(x)')\n",
    "plt.plot(x, y3, label='y = e^x')\n",
    "plt.plot(x, y4, label='y = log(|x| + 1)')\n",
    "plt.ylim(-10, 50)  \n",
    "plt.xlabel('x values')\n",
    "plt.ylabel('y values')\n",
    "plt.title('Function Plots')\n",
    "plt.legend()\n",
    "plt.grid()\n",
    "plt.show()"
   ]
  },
  {
   "cell_type": "code",
   "execution_count": null,
   "metadata": {},
   "outputs": [],
   "source": []
  },
  {
   "cell_type": "code",
   "execution_count": null,
   "metadata": {},
   "outputs": [],
   "source": []
  },
  {
   "cell_type": "code",
   "execution_count": null,
   "metadata": {},
   "outputs": [],
   "source": []
  }
 ],
 "metadata": {
  "kernelspec": {
   "display_name": "Python 3",
   "language": "python",
   "name": "python3"
  },
  "language_info": {
   "name": "python",
   "version": "3.12.4"
  }
 },
 "nbformat": 4,
 "nbformat_minor": 2
}
